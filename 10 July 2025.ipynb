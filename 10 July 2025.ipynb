{
 "cells": [
  {
   "cell_type": "code",
   "execution_count": 5,
   "id": "87c8a818",
   "metadata": {},
   "outputs": [
    {
     "name": "stdout",
     "output_type": "stream",
     "text": [
      "3\n"
     ]
    }
   ],
   "source": [
    "# Assignment Operator\n",
    "a = 3\n",
    "print(a)"
   ]
  },
  {
   "cell_type": "code",
   "execution_count": 6,
   "id": "e7d9ac92",
   "metadata": {},
   "outputs": [
    {
     "name": "stdout",
     "output_type": "stream",
     "text": [
      "5\n"
     ]
    }
   ],
   "source": [
    "a += 2\n",
    "print(a)"
   ]
  },
  {
   "cell_type": "code",
   "execution_count": 7,
   "id": "503234c8",
   "metadata": {},
   "outputs": [
    {
     "name": "stdout",
     "output_type": "stream",
     "text": [
      "5\n",
      "4\n"
     ]
    }
   ],
   "source": [
    "print(a)\n",
    "a -= 1\n",
    "print(a)"
   ]
  },
  {
   "cell_type": "code",
   "execution_count": 8,
   "id": "e5d01e72",
   "metadata": {},
   "outputs": [
    {
     "name": "stdout",
     "output_type": "stream",
     "text": [
      "8\n"
     ]
    }
   ],
   "source": [
    "a *= 2\n",
    "print(a)"
   ]
  },
  {
   "cell_type": "code",
   "execution_count": 9,
   "id": "ac080175",
   "metadata": {},
   "outputs": [],
   "source": [
    "# identity operators\n",
    "list1 = [1,2,3]\n",
    "list2 = [1,2,3]"
   ]
  },
  {
   "cell_type": "code",
   "execution_count": 10,
   "id": "4cc6dc7e",
   "metadata": {},
   "outputs": [
    {
     "data": {
      "text/plain": [
       "[1, 2, 3]"
      ]
     },
     "execution_count": 10,
     "metadata": {},
     "output_type": "execute_result"
    }
   ],
   "source": [
    "list1"
   ]
  },
  {
   "cell_type": "code",
   "execution_count": 11,
   "id": "cdb1af48",
   "metadata": {},
   "outputs": [
    {
     "data": {
      "text/plain": [
       "[1, 2, 3]"
      ]
     },
     "execution_count": 11,
     "metadata": {},
     "output_type": "execute_result"
    }
   ],
   "source": [
    "list2"
   ]
  },
  {
   "cell_type": "code",
   "execution_count": 12,
   "id": "2e22cf58",
   "metadata": {},
   "outputs": [
    {
     "name": "stdout",
     "output_type": "stream",
     "text": [
      "True\n"
     ]
    }
   ],
   "source": [
    "print(list1 == list2)"
   ]
  },
  {
   "cell_type": "code",
   "execution_count": 13,
   "id": "ef54724f",
   "metadata": {},
   "outputs": [],
   "source": [
    "# identity operators\n",
    "list1 = [1,2,3]\n",
    "list2 = [1,2,3, 4]"
   ]
  },
  {
   "cell_type": "code",
   "execution_count": 14,
   "id": "771dcf92",
   "metadata": {},
   "outputs": [
    {
     "name": "stdout",
     "output_type": "stream",
     "text": [
      "False\n"
     ]
    }
   ],
   "source": [
    "print(list1 == list2)"
   ]
  },
  {
   "cell_type": "code",
   "execution_count": 15,
   "id": "aa62f54a",
   "metadata": {},
   "outputs": [
    {
     "name": "stdout",
     "output_type": "stream",
     "text": [
      "False\n"
     ]
    }
   ],
   "source": [
    "print(list1 is list2)"
   ]
  },
  {
   "cell_type": "code",
   "execution_count": 16,
   "id": "815c377c",
   "metadata": {},
   "outputs": [
    {
     "name": "stdout",
     "output_type": "stream",
     "text": [
      "['apple', 'graphs', 'orange']\n"
     ]
    }
   ],
   "source": [
    "# membership operator\n",
    "fruits = [\"apple\", 'graphs', 'orange']\n",
    "print(fruits)"
   ]
  },
  {
   "cell_type": "code",
   "execution_count": 17,
   "id": "3a8ca287",
   "metadata": {},
   "outputs": [
    {
     "name": "stdout",
     "output_type": "stream",
     "text": [
      "False\n"
     ]
    }
   ],
   "source": [
    "print('banana' in fruits)"
   ]
  },
  {
   "cell_type": "code",
   "execution_count": 19,
   "id": "04eed1b2",
   "metadata": {},
   "outputs": [
    {
     "name": "stdout",
     "output_type": "stream",
     "text": [
      "False\n"
     ]
    }
   ],
   "source": [
    "print('orange' not in fruits)"
   ]
  },
  {
   "cell_type": "code",
   "execution_count": 20,
   "id": "e8ec279b",
   "metadata": {},
   "outputs": [
    {
     "name": "stdout",
     "output_type": "stream",
     "text": [
      "Please enter your good name: Zainab\n"
     ]
    }
   ],
   "source": [
    "# input and output (i/o)\n",
    "student_name = input(\"Please enter your good name: \")"
   ]
  },
  {
   "cell_type": "code",
   "execution_count": 21,
   "id": "eda192a3",
   "metadata": {},
   "outputs": [
    {
     "name": "stdout",
     "output_type": "stream",
     "text": [
      "please enter the details in dict form: {'name': 'Zainab', 'roll No': 5, 'gender': \"F\"}\n"
     ]
    }
   ],
   "source": [
    "student_details = eval(input(\"please enter the details in dict form: \"))"
   ]
  },
  {
   "cell_type": "code",
   "execution_count": 22,
   "id": "6376afde",
   "metadata": {},
   "outputs": [
    {
     "data": {
      "text/plain": [
       "dict"
      ]
     },
     "execution_count": 22,
     "metadata": {},
     "output_type": "execute_result"
    }
   ],
   "source": [
    "type(student_details)"
   ]
  },
  {
   "cell_type": "code",
   "execution_count": 23,
   "id": "6526b6cf",
   "metadata": {},
   "outputs": [
    {
     "name": "stdout",
     "output_type": "stream",
     "text": [
      "Please enter your fee: 2000\n",
      "1000\n"
     ]
    }
   ],
   "source": [
    "student_fees = int(input(\"Please enter your fee: \"))\n",
    "print(student_fees - 1000)"
   ]
  },
  {
   "cell_type": "code",
   "execution_count": 26,
   "id": "6432c25a",
   "metadata": {},
   "outputs": [
    {
     "name": "stdout",
     "output_type": "stream",
     "text": [
      "Welcome to KP-IT Board\n"
     ]
    }
   ],
   "source": [
    "# output\n",
    "a = 'Welcome to KP-IT Board'\n",
    "print(a)"
   ]
  },
  {
   "cell_type": "code",
   "execution_count": 27,
   "id": "0b5aa400",
   "metadata": {},
   "outputs": [
    {
     "name": "stdout",
     "output_type": "stream",
     "text": [
      "Welcome to KP-IT Board AI Course\n"
     ]
    }
   ],
   "source": [
    "# output\n",
    "a = 'Welcome to KP-IT Board'\n",
    "print(a, 'AI Course')"
   ]
  },
  {
   "cell_type": "code",
   "execution_count": 29,
   "id": "f2bb2d3b",
   "metadata": {},
   "outputs": [
    {
     "name": "stdout",
     "output_type": "stream",
     "text": [
      "Hello,  Ali ! You are 22 years old.\n"
     ]
    }
   ],
   "source": [
    "name = 'Ali'\n",
    "age = 22\n",
    "\n",
    "print(\"Hello, \", name, \"! You are\", age, \"years old.\")"
   ]
  },
  {
   "cell_type": "code",
   "execution_count": 31,
   "id": "359a366d",
   "metadata": {},
   "outputs": [
    {
     "name": "stdout",
     "output_type": "stream",
     "text": [
      "Hello, Ali ! You are 22 years old.\n"
     ]
    }
   ],
   "source": [
    "print(f\"Hello, {name} ! You are {age} years old.\")"
   ]
  },
  {
   "cell_type": "code",
   "execution_count": 32,
   "id": "f48366ee",
   "metadata": {},
   "outputs": [
    {
     "name": "stdout",
     "output_type": "stream",
     "text": [
      "Hello, Ali ! You are 22 years old.\n"
     ]
    }
   ],
   "source": [
    "print(\"Hello, {} ! You are {} years old.\".format(name, age))"
   ]
  },
  {
   "cell_type": "code",
   "execution_count": 34,
   "id": "f20b689a",
   "metadata": {},
   "outputs": [
    {
     "ename": "IndentationError",
     "evalue": "expected an indented block (1907523663.py, line 4)",
     "output_type": "error",
     "traceback": [
      "\u001b[1;36m  Cell \u001b[1;32mIn[34], line 4\u001b[1;36m\u001b[0m\n\u001b[1;33m    print(\"Positive\")\u001b[0m\n\u001b[1;37m    ^\u001b[0m\n\u001b[1;31mIndentationError\u001b[0m\u001b[1;31m:\u001b[0m expected an indented block\n"
     ]
    }
   ],
   "source": [
    "# if\n",
    "num = 10\n",
    "if num > 0:\n",
    "print(\"Positive\")"
   ]
  },
  {
   "cell_type": "code",
   "execution_count": 37,
   "id": "2a09f1fb",
   "metadata": {},
   "outputs": [
    {
     "name": "stdout",
     "output_type": "stream",
     "text": [
      "Positive\n"
     ]
    }
   ],
   "source": [
    "# if\n",
    "num = 10\n",
    "if num > 0:\n",
    "    print(\"Positive\")"
   ]
  },
  {
   "cell_type": "code",
   "execution_count": 38,
   "id": "2ecc169e",
   "metadata": {},
   "outputs": [],
   "source": [
    "# if\n",
    "num = -1\n",
    "if num > 0:\n",
    "    print(\"Positive\")\n",
    "    print(\"Greater than 0\")"
   ]
  },
  {
   "cell_type": "code",
   "execution_count": 39,
   "id": "18a08c87",
   "metadata": {},
   "outputs": [
    {
     "name": "stdout",
     "output_type": "stream",
     "text": [
      "Negative\n",
      "Less than 0\n"
     ]
    }
   ],
   "source": [
    "# if-else\n",
    "num = -1\n",
    "if num > 0:\n",
    "    print(\"Positive\")\n",
    "    print(\"Greater than 0\")\n",
    "else:\n",
    "    print(\"Negative\")\n",
    "    print(\"Less than 0\")"
   ]
  },
  {
   "cell_type": "code",
   "execution_count": 40,
   "id": "a015364c",
   "metadata": {},
   "outputs": [
    {
     "name": "stdout",
     "output_type": "stream",
     "text": [
      "please enter a number: 0\n",
      "Zero\n"
     ]
    }
   ],
   "source": [
    "# if-elif-else\n",
    "num = int(input(\"please enter a number: \"))\n",
    "if num > 0:\n",
    "    print(\"Positvie\")\n",
    "elif num < 0:\n",
    "    print('Negative')\n",
    "else:\n",
    "    print(\"Zero\")"
   ]
  },
  {
   "cell_type": "code",
   "execution_count": 41,
   "id": "e2ae625a",
   "metadata": {},
   "outputs": [
    {
     "name": "stdout",
     "output_type": "stream",
     "text": [
      "please enter a number: 25\n",
      "Positvie\n"
     ]
    }
   ],
   "source": [
    "# if-elif-else\n",
    "num = int(input(\"please enter a number: \"))\n",
    "if num > 0:\n",
    "    print(\"Positvie\")\n",
    "elif num < 0:\n",
    "    print('Negative')\n",
    "else:\n",
    "    print(\"Zero\")"
   ]
  },
  {
   "cell_type": "code",
   "execution_count": 42,
   "id": "7aa296c0",
   "metadata": {},
   "outputs": [
    {
     "name": "stdout",
     "output_type": "stream",
     "text": [
      "please enter a number: -1\n",
      "Negative\n"
     ]
    }
   ],
   "source": [
    "# if-elif-else\n",
    "num = int(input(\"please enter a number: \"))\n",
    "if num > 0:\n",
    "    print(\"Positvie\")\n",
    "elif num < 0:\n",
    "    print('Negative')\n",
    "else:\n",
    "    print(\"Zero\")"
   ]
  },
  {
   "cell_type": "code",
   "execution_count": null,
   "id": "20d1b53e",
   "metadata": {},
   "outputs": [],
   "source": []
  }
 ],
 "metadata": {
  "kernelspec": {
   "display_name": "Python 3 (ipykernel)",
   "language": "python",
   "name": "python3"
  },
  "language_info": {
   "codemirror_mode": {
    "name": "ipython",
    "version": 3
   },
   "file_extension": ".py",
   "mimetype": "text/x-python",
   "name": "python",
   "nbconvert_exporter": "python",
   "pygments_lexer": "ipython3",
   "version": "3.8.18"
  }
 },
 "nbformat": 4,
 "nbformat_minor": 5
}
